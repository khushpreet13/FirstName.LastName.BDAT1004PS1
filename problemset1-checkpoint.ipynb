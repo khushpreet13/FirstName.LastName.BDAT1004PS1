{
 "cells": [
  {
   "cell_type": "markdown",
   "id": "1d83d659",
   "metadata": {},
   "source": [
    "# PROBLEM SET 1"
   ]
  },
  {
   "cell_type": "markdown",
   "id": "966793f7",
   "metadata": {},
   "source": [
    "ANSWER 1"
   ]
  },
  {
   "cell_type": "code",
   "execution_count": 2,
   "id": "0269f7eb",
   "metadata": {},
   "outputs": [
    {
     "name": "stdout",
     "output_type": "stream",
     "text": [
      "<class 'int'>\n",
      "<class 'float'>\n",
      "<class 'bool'>\n",
      "<class 'str'>\n",
      "<class 'int'>\n",
      "<class 'str'>\n",
      "<class 'str'>\n",
      "<class 'float'>\n",
      "<class 'int'>\n",
      "<class 'set'>\n",
      "<class 'float'>\n"
     ]
    }
   ],
   "source": [
    "print(type(5))\n",
    "print(type(5.0))\n",
    "print(type(5>1))\n",
    "print(type('5'))\n",
    "print(type(5*2))\n",
    "print(type('5'*2))\n",
    "print(type('5'+'2'))\n",
    "print(type(5/2))\n",
    "print(type(5%2))\n",
    "print(type({5,2,1}))\n",
    "print(type(3.14159))"
   ]
  },
  {
   "cell_type": "raw",
   "id": "e5c6cfa4",
   "metadata": {},
   "source": [
    "ANSWER 2.a."
   ]
  },
  {
   "cell_type": "code",
   "execution_count": 4,
   "id": "7f221af2",
   "metadata": {},
   "outputs": [
    {
     "data": {
      "text/plain": [
       "34"
      ]
     },
     "execution_count": 4,
     "metadata": {},
     "output_type": "execute_result"
    }
   ],
   "source": [
    "len('Supercalifragilisticexpialidocious')"
   ]
  },
  {
   "cell_type": "markdown",
   "id": "8e520f61",
   "metadata": {},
   "source": [
    "ANSWER 2.b."
   ]
  },
  {
   "cell_type": "code",
   "execution_count": 5,
   "id": "939d21f8",
   "metadata": {},
   "outputs": [
    {
     "name": "stdout",
     "output_type": "stream",
     "text": [
      "Yes, 'ice' is contained as a substring\n"
     ]
    }
   ],
   "source": [
    "word = 'Supercalifragilisticexpialidocious'\n",
    "if 'ice' in word:\n",
    "    print ('Yes, \\'ice\\' is contained as a substring')\n",
    "else:\n",
    "    print ('No, \\'ice\\' is NOT contained as a substring')"
   ]
  },
  {
   "cell_type": "markdown",
   "id": "5986311d",
   "metadata": {},
   "source": [
    "ANSWER 2.c."
   ]
  },
  {
   "cell_type": "code",
   "execution_count": 6,
   "id": "5f5a6256",
   "metadata": {},
   "outputs": [
    {
     "name": "stdout",
     "output_type": "stream",
     "text": [
      "Supercalifragilisticexpialidocious\n"
     ]
    }
   ],
   "source": [
    "a='Supercalifragilisticexpialidocious'\n",
    "b='Honorificabilitudinitatibus'\n",
    "c='Bababadalgharaghtakamminarronnkonn'\n",
    "\n",
    "len(a)\n",
    "len(b)\n",
    "len(c)\n",
    "\n",
    "print(max(a,b,c))"
   ]
  },
  {
   "cell_type": "markdown",
   "id": "09cbec49",
   "metadata": {},
   "source": [
    "ANSWER 2.d."
   ]
  },
  {
   "cell_type": "code",
   "execution_count": 8,
   "id": "195a1254",
   "metadata": {},
   "outputs": [
    {
     "name": "stdout",
     "output_type": "stream",
     "text": [
      "['Barodin', 'Bartok', 'Bellini', 'Berlioz', 'Bernstein', 'Brian', 'Buxtehude']\n"
     ]
    }
   ],
   "source": [
    "a=['Berlioz','Barodin','Brian','Bartok','Bellini','Buxtehude','Bernstein']\n",
    "a.sort()\n",
    "print(a)\n"
   ]
  },
  {
   "cell_type": "markdown",
   "id": "f9d01c49",
   "metadata": {},
   "source": [
    "ANSWER 3"
   ]
  },
  {
   "cell_type": "code",
   "execution_count": 9,
   "id": "5dd22bd1",
   "metadata": {},
   "outputs": [
    {
     "name": "stdout",
     "output_type": "stream",
     "text": [
      "Enter side 1 of triangle:2\n",
      "Enter side 2 of triangle:3\n",
      "Enter side 3 of triangle:4\n",
      "2.9047375096555625\n"
     ]
    }
   ],
   "source": [
    "a=int(input(\"Enter side 1 of triangle:\"))\n",
    "b=int(input(\"Enter side 2 of triangle:\"))\n",
    "c=int(input(\"Enter side 3 of triangle:\"))\n",
    "def t_area(a,b,c):\n",
    "    x=(a+b+c)/2\n",
    "    area=(x*(x-a)*(x-b)*(x-c))**0.5\n",
    "    print(area)\n",
    "t_area(a,b,c)"
   ]
  },
  {
   "cell_type": "markdown",
   "id": "d1179f6c",
   "metadata": {},
   "source": [
    "ANSWER 4"
   ]
  },
  {
   "cell_type": "code",
   "execution_count": 12,
   "id": "95454173",
   "metadata": {},
   "outputs": [
    {
     "name": "stdout",
     "output_type": "stream",
     "text": [
      "Even list: [42, 56, 32]\n",
      "Odd list: [25, 47]\n"
     ]
    }
   ],
   "source": [
    "list = [25,47,42,56,32]\n",
    "even=[]\n",
    "odd=[]\n",
    "for i in list:\n",
    "    if (i%2==0):\n",
    "        even.append(i)\n",
    "    else:\n",
    "        odd.append(i)\n",
    "print(\"Even list:\",even)\n",
    "print(\"Odd list:\",odd)"
   ]
  },
  {
   "cell_type": "markdown",
   "id": "30601e28",
   "metadata": {},
   "source": [
    "ANSWER 5.a."
   ]
  },
  {
   "cell_type": "code",
   "execution_count": 15,
   "id": "7298c290",
   "metadata": {},
   "outputs": [],
   "source": [
    "def inside(x,y,x1,y1,x2,y2):\n",
    "    if (x > x1 and x < x2 and\n",
    "        y > y1 and y < y2) :\n",
    "        return True \n",
    "    else :\n",
    "        return False"
   ]
  },
  {
   "cell_type": "markdown",
   "id": "e4a58b09",
   "metadata": {},
   "source": [
    "ANSWER 5.b."
   ]
  },
  {
   "cell_type": "code",
   "execution_count": 16,
   "id": "e1268514",
   "metadata": {},
   "outputs": [
    {
     "name": "stdout",
     "output_type": "stream",
     "text": [
      "enter x1:0.3\n",
      "enter y1:0.5\n",
      "enter x2:1.1\n",
      "enter y2:0.7\n",
      "point does not lies in the rectangle\n"
     ]
    }
   ],
   "source": [
    "def inside():\n",
    "    x=1\n",
    "    y=1\n",
    "    x1=float(input(\"enter x1:\"))\n",
    "    y1=float(input(\"enter y1:\"))\n",
    "    x2=float(input(\"enter x2:\"))\n",
    "    y2=float(input(\"enter y2:\"))\n",
    "    if(x>x1 and x<x2 and y>y1 and y<y2):\n",
    "        print(\"point lies in the rectangle\")\n",
    "    else:\n",
    "        print(\"point does not lies in the rectangle\")\n",
    "    \n",
    "inside()"
   ]
  },
  {
   "cell_type": "markdown",
   "id": "19698287",
   "metadata": {},
   "source": [
    "ANSWER 6"
   ]
  },
  {
   "cell_type": "code",
   "execution_count": 45,
   "id": "eb8c18f9",
   "metadata": {},
   "outputs": [],
   "source": [
    "def pig(string):                                         \n",
    "    \"Function to convert string to pig-latin version\"    \n",
    "    vowels=[\"a\",\"e\",\"i\",\"o\",\"u\"]                         \n",
    "    lowerString=string.lower()\n",
    "    if(lowerString[0]  in vowels):\n",
    "        return lowerString+\"way\"\n",
    "    else:\n",
    "        return lowerString[1:]+lowerString[0]+\"ay\""
   ]
  },
  {
   "cell_type": "code",
   "execution_count": 46,
   "id": "9b60b273",
   "metadata": {},
   "outputs": [
    {
     "name": "stdout",
     "output_type": "stream",
     "text": [
      "appyhay\n"
     ]
    }
   ],
   "source": [
    "print(pig('happy'))"
   ]
  },
  {
   "cell_type": "code",
   "execution_count": 47,
   "id": "1489f45e",
   "metadata": {},
   "outputs": [
    {
     "name": "stdout",
     "output_type": "stream",
     "text": [
      "enterway\n"
     ]
    }
   ],
   "source": [
    "print(pig('Enter'))"
   ]
  },
  {
   "cell_type": "markdown",
   "id": "eaffe305",
   "metadata": {},
   "source": [
    "ANSWER 7"
   ]
  },
  {
   "cell_type": "code",
   "execution_count": 29,
   "id": "f10260ef",
   "metadata": {},
   "outputs": [
    {
     "name": "stdout",
     "output_type": "stream",
     "text": [
      "{'AB': 13, 'B': 1, 'O': 15, 'A': 15, '': 1}\n"
     ]
    }
   ],
   "source": [
    "def bldcount():\n",
    "    file=open(\"bloodtype1.txt\")\n",
    "    x=file.read()\n",
    "    y=x.replace('\\n','').split(\" \")\n",
    "    a={}\n",
    "    for i in y:\n",
    "        a[i]=y.count(i)\n",
    "    print(a)\n",
    "bldcount()"
   ]
  },
  {
   "cell_type": "markdown",
   "id": "1f79431f",
   "metadata": {},
   "source": [
    "ANSWER 8"
   ]
  },
  {
   "cell_type": "code",
   "execution_count": 31,
   "id": "e79c028e",
   "metadata": {},
   "outputs": [],
   "source": [
    "def  curconv(country,amount):                                                 \n",
    "    \"function to convert foreign currency to USD\"                            \n",
    "    f = open(\"currencies.txt\",\"r\")                                           \n",
    "    line = f.readline()\n",
    "    allData=[]\n",
    "    value=0\n",
    "    while line:\n",
    "        allData.append((line.strip().split())[0:2])\n",
    "        line = f.readline()\n",
    "    for x in allData:\n",
    "        if (x[0]==country):\n",
    "            value=float(x[1])*amount\n",
    "    f.close()\n",
    "    return value"
   ]
  },
  {
   "cell_type": "code",
   "execution_count": 32,
   "id": "4c483edc",
   "metadata": {},
   "outputs": [
    {
     "data": {
      "text/plain": [
       "122.96544"
      ]
     },
     "execution_count": 32,
     "metadata": {},
     "output_type": "execute_result"
    }
   ],
   "source": [
    "curconv('EUR', 100)"
   ]
  },
  {
   "cell_type": "code",
   "execution_count": 34,
   "id": "16db827d",
   "metadata": {},
   "outputs": [
    {
     "data": {
      "text/plain": [
       "1.241401"
      ]
     },
     "execution_count": 34,
     "metadata": {},
     "output_type": "execute_result"
    }
   ],
   "source": [
    "curconv('JPY', 100)"
   ]
  },
  {
   "cell_type": "markdown",
   "id": "cb9daa34",
   "metadata": {},
   "source": [
    "ANSWER 9"
   ]
  },
  {
   "cell_type": "code",
   "execution_count": 40,
   "id": "071b5515",
   "metadata": {},
   "outputs": [
    {
     "ename": "TypeError",
     "evalue": "unsupported operand type(s) for +: 'int' and 'str'",
     "output_type": "error",
     "traceback": [
      "\u001b[1;31m---------------------------------------------------------------------------\u001b[0m",
      "\u001b[1;31mTypeError\u001b[0m                                 Traceback (most recent call last)",
      "\u001b[1;32m~\\AppData\\Local\\Temp/ipykernel_18024/2005803499.py\u001b[0m in \u001b[0;36m<module>\u001b[1;34m\u001b[0m\n\u001b[0;32m      1\u001b[0m \u001b[0ma\u001b[0m \u001b[1;33m=\u001b[0m \u001b[1;34m'apple'\u001b[0m\u001b[1;33m\u001b[0m\u001b[1;33m\u001b[0m\u001b[0m\n\u001b[1;32m----> 2\u001b[1;33m \u001b[0mb\u001b[0m \u001b[1;33m=\u001b[0m \u001b[1;36m6\u001b[0m \u001b[1;33m+\u001b[0m \u001b[1;34m'a'\u001b[0m\u001b[1;33m\u001b[0m\u001b[1;33m\u001b[0m\u001b[0m\n\u001b[0m",
      "\u001b[1;31mTypeError\u001b[0m: unsupported operand type(s) for +: 'int' and 'str'"
     ]
    }
   ],
   "source": [
    "a = 'apple'\n",
    "b = 6 + 'a'"
   ]
  },
  {
   "cell_type": "code",
   "execution_count": 41,
   "id": "cb3e5640",
   "metadata": {},
   "outputs": [
    {
     "ename": "IndexError",
     "evalue": "list index out of range",
     "output_type": "error",
     "traceback": [
      "\u001b[1;31m---------------------------------------------------------------------------\u001b[0m",
      "\u001b[1;31mIndexError\u001b[0m                                Traceback (most recent call last)",
      "\u001b[1;32m~\\AppData\\Local\\Temp/ipykernel_18024/1832152018.py\u001b[0m in \u001b[0;36m<module>\u001b[1;34m\u001b[0m\n\u001b[0;32m      1\u001b[0m \u001b[0mList\u001b[0m \u001b[1;33m=\u001b[0m \u001b[1;33m[\u001b[0m\u001b[1;36m1\u001b[0m\u001b[1;33m,\u001b[0m\u001b[1;36m2\u001b[0m\u001b[1;33m,\u001b[0m\u001b[1;36m3\u001b[0m\u001b[1;33m,\u001b[0m\u001b[1;36m4\u001b[0m\u001b[1;33m,\u001b[0m\u001b[1;36m5\u001b[0m\u001b[1;33m,\u001b[0m\u001b[1;36m6\u001b[0m\u001b[1;33m,\u001b[0m\u001b[1;36m7\u001b[0m\u001b[1;33m,\u001b[0m\u001b[1;36m8\u001b[0m\u001b[1;33m,\u001b[0m\u001b[1;36m9\u001b[0m\u001b[1;33m,\u001b[0m\u001b[1;36m0\u001b[0m\u001b[1;33m]\u001b[0m\u001b[1;33m\u001b[0m\u001b[1;33m\u001b[0m\u001b[0m\n\u001b[1;32m----> 2\u001b[1;33m \u001b[0mList\u001b[0m\u001b[1;33m[\u001b[0m\u001b[1;36m12\u001b[0m\u001b[1;33m]\u001b[0m\u001b[1;33m\u001b[0m\u001b[1;33m\u001b[0m\u001b[0m\n\u001b[0m",
      "\u001b[1;31mIndexError\u001b[0m: list index out of range"
     ]
    }
   ],
   "source": [
    "List = [1,2,3,4,5,6,7,8,9,0]\n",
    "List[12]"
   ]
  },
  {
   "cell_type": "code",
   "execution_count": 42,
   "id": "929fc67e",
   "metadata": {},
   "outputs": [
    {
     "ename": "ValueError",
     "evalue": "math domain error",
     "output_type": "error",
     "traceback": [
      "\u001b[1;31m---------------------------------------------------------------------------\u001b[0m",
      "\u001b[1;31mValueError\u001b[0m                                Traceback (most recent call last)",
      "\u001b[1;32m~\\AppData\\Local\\Temp/ipykernel_18024/1114391229.py\u001b[0m in \u001b[0;36m<module>\u001b[1;34m\u001b[0m\n\u001b[0;32m      1\u001b[0m \u001b[1;32mimport\u001b[0m \u001b[0mmath\u001b[0m\u001b[1;33m\u001b[0m\u001b[1;33m\u001b[0m\u001b[0m\n\u001b[1;32m----> 2\u001b[1;33m \u001b[0mmath\u001b[0m\u001b[1;33m.\u001b[0m\u001b[0msqrt\u001b[0m\u001b[1;33m(\u001b[0m\u001b[1;33m-\u001b[0m\u001b[1;36m1.0\u001b[0m\u001b[1;33m)\u001b[0m\u001b[1;33m\u001b[0m\u001b[1;33m\u001b[0m\u001b[0m\n\u001b[0m",
      "\u001b[1;31mValueError\u001b[0m: math domain error"
     ]
    }
   ],
   "source": [
    "import math\n",
    "math.sqrt(-1.0)"
   ]
  },
  {
   "cell_type": "code",
   "execution_count": 43,
   "id": "1d64fcbf",
   "metadata": {},
   "outputs": [
    {
     "ename": "NameError",
     "evalue": "name 'x' is not defined",
     "output_type": "error",
     "traceback": [
      "\u001b[1;31m---------------------------------------------------------------------------\u001b[0m",
      "\u001b[1;31mNameError\u001b[0m                                 Traceback (most recent call last)",
      "\u001b[1;32m~\\AppData\\Local\\Temp/ipykernel_18024/1353120783.py\u001b[0m in \u001b[0;36m<module>\u001b[1;34m\u001b[0m\n\u001b[1;32m----> 1\u001b[1;33m \u001b[0mprint\u001b[0m\u001b[1;33m(\u001b[0m\u001b[0mx\u001b[0m\u001b[1;33m)\u001b[0m\u001b[1;33m\u001b[0m\u001b[1;33m\u001b[0m\u001b[0m\n\u001b[0m",
      "\u001b[1;31mNameError\u001b[0m: name 'x' is not defined"
     ]
    }
   ],
   "source": [
    "print(x)"
   ]
  },
  {
   "cell_type": "code",
   "execution_count": 44,
   "id": "d13902c1",
   "metadata": {},
   "outputs": [
    {
     "ename": "FileNotFoundError",
     "evalue": "[Errno 2] No such file or directory: 'ABC.txt'",
     "output_type": "error",
     "traceback": [
      "\u001b[1;31m---------------------------------------------------------------------------\u001b[0m",
      "\u001b[1;31mFileNotFoundError\u001b[0m                         Traceback (most recent call last)",
      "\u001b[1;32m~\\AppData\\Local\\Temp/ipykernel_18024/2273348970.py\u001b[0m in \u001b[0;36m<module>\u001b[1;34m\u001b[0m\n\u001b[1;32m----> 1\u001b[1;33m \u001b[0minfile\u001b[0m \u001b[1;33m=\u001b[0m \u001b[0mopen\u001b[0m\u001b[1;33m(\u001b[0m\u001b[1;34m'ABC.txt'\u001b[0m\u001b[1;33m,\u001b[0m \u001b[1;34m'rt'\u001b[0m\u001b[1;33m)\u001b[0m\u001b[1;33m\u001b[0m\u001b[1;33m\u001b[0m\u001b[0m\n\u001b[0m",
      "\u001b[1;31mFileNotFoundError\u001b[0m: [Errno 2] No such file or directory: 'ABC.txt'"
     ]
    }
   ],
   "source": [
    "infile = open('ABC.txt', 'rt')"
   ]
  },
  {
   "cell_type": "markdown",
   "id": "cc8d6911",
   "metadata": {},
   "source": [
    "ANSWER 10"
   ]
  },
  {
   "cell_type": "code",
   "execution_count": 19,
   "id": "6721f733",
   "metadata": {},
   "outputs": [],
   "source": [
    "def frequencies(string):                                                         \n",
    "    \"function to check Frequency of alphabets in given string\"                   \n",
    "    letterString=\"abcdefghijklmnopqrstuvwxyz\"                                    \n",
    "    frequenList=[]                                                               \n",
    "    for x in range(0,len(letterString)-1):\n",
    "        frequenList.append((string.count(letterString[x])))                      \n",
    "    return frequenList"
   ]
  },
  {
   "cell_type": "code",
   "execution_count": 20,
   "id": "b1258829",
   "metadata": {},
   "outputs": [
    {
     "data": {
      "text/plain": [
       "[1, 1, 1, 3, 5, 1, 1, 2, 1, 0, 1, 0, 1, 2, 4, 0, 1, 2, 0, 2, 1, 0, 1, 1, 0]"
      ]
     },
     "execution_count": 20,
     "metadata": {},
     "output_type": "execute_result"
    }
   ],
   "source": [
    "frequencies('The quick red fox got bored and went home.')"
   ]
  },
  {
   "cell_type": "code",
   "execution_count": 21,
   "id": "fbc7dde1",
   "metadata": {},
   "outputs": [
    {
     "data": {
      "text/plain": [
       "[1, 0, 0, 0, 1, 0, 0, 0, 0, 0, 0, 1, 0, 0, 0, 2, 0, 0, 0, 0, 0, 0, 0, 0, 0]"
      ]
     },
     "execution_count": 21,
     "metadata": {},
     "output_type": "execute_result"
    }
   ],
   "source": [
    "frequencies('apple')"
   ]
  },
  {
   "cell_type": "markdown",
   "id": "83f749de",
   "metadata": {},
   "source": [
    "THANKYOU"
   ]
  }
 ],
 "metadata": {
  "kernelspec": {
   "display_name": "Python 3 (ipykernel)",
   "language": "python",
   "name": "python3"
  },
  "language_info": {
   "codemirror_mode": {
    "name": "ipython",
    "version": 3
   },
   "file_extension": ".py",
   "mimetype": "text/x-python",
   "name": "python",
   "nbconvert_exporter": "python",
   "pygments_lexer": "ipython3",
   "version": "3.9.7"
  }
 },
 "nbformat": 4,
 "nbformat_minor": 5
}
